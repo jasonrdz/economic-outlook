{
 "cells": [
  {
   "cell_type": "code",
   "execution_count": 20,
   "id": "344d5e9e-c7e1-45bc-a182-d2cf247a55e5",
   "metadata": {},
   "outputs": [],
   "source": [
    "import numpy as np\n",
    "import matplotlib.pyplot as plt"
   ]
  },
  {
   "cell_type": "code",
   "execution_count": 22,
   "id": "48ff422c-c574-47ce-8b1d-8a0e3309ad6b",
   "metadata": {},
   "outputs": [],
   "source": [
    "sims = 1000000\n",
    "a = np.random.uniform(1,5,sims)\n",
    "b = np.random.uniform(2,6,sims)\n",
    "\n",
    "\n",
    "duration = a + b"
   ]
  },
  {
   "cell_type": "code",
   "execution_count": 48,
   "id": "1cc8bd08-038c-4a41-9030-7745cbe65908",
   "metadata": {},
   "outputs": [
    {
     "data": {
      "text/plain": [
       "12.509400000000001"
      ]
     },
     "execution_count": 48,
     "metadata": {},
     "output_type": "execute_result"
    },
    {
     "data": {
      "image/png": "[encoded data removed]",
      "text/plain": [
       "<Figure size 300x200 with 1 Axes>"
      ]
     },
     "metadata": {},
     "output_type": "display_data"
    }
   ],
   "source": [
    "plt.figure(figsize = (3,2))\n",
    "plt.hist(duration)\n",
    "# vertical at 9 since we have to be there at 9 \n",
    "plt.axvline(9, color = 'r')\n",
    "# percentage of chances where i took longer than 9 hours\n",
    "chance = ((duration > 9).sum() / sims) * 100\n",
    "chance"
   ]
  },
  {
   "cell_type": "code",
   "execution_count": null,
   "id": "7f6ce563-75c9-4b4a-a70a-64cc6d5af429",
   "metadata": {},
   "outputs": [],
   "source": []
  }
 ],
 "metadata": {
  "kernelspec": {
   "display_name": "Python 3 (ipykernel)",
   "language": "python",
   "name": "python3"
  },
  "language_info": {
   "codemirror_mode": {
    "name": "ipython",
    "version": 3
   },
   "file_extension": ".py",
   "mimetype": "text/x-python",
   "name": "python",
   "nbconvert_exporter": "python",
   "pygments_lexer": "ipython3",
   "version": "3.11.7"
  }
 },
 "nbformat": 4,
 "nbformat_minor": 5
}
