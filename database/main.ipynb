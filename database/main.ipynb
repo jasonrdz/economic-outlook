{
 "cells": [
  {
   "cell_type": "code",
   "execution_count": 31,
   "id": "4ab07ed0-fb91-4d6c-ada5-0790a947d198",
   "metadata": {},
   "outputs": [
    {
     "name": "stdout",
     "output_type": "stream",
     "text": [
      "/Users/jasonrodriguez/economic_outlook\n"
     ]
    }
   ],
   "source": [
    "import duckdb as duck\n",
    "from openbb import obb\n",
    "import polars as pl\n",
    "\n",
    "import os\n",
    "# os.chdir('..')\n",
    "print(os.getcwd())\n",
    "import sys \n",
    "sys.path.append('./working_files/')\n",
    "from functions import *\n",
    "\n",
    "\n",
    "\n",
    "stocks = [\n",
    "    \"AAPL\",  # Apple Inc.\n",
    "    \"MSFT\",  # Microsoft Corporation\n",
    "    \"GOOGL\", # Alphabet Inc. (Class A)\n",
    "    \"AMZN\",  # Amazon.com Inc.\n",
    "    \"META\",  # Meta Platforms Inc.\n",
    "    \"NVDA\",  # NVIDIA Corporation\n",
    "    \"TSLA\",  # Tesla Inc.\n",
    "    \"JPM\",   # JPMorgan Chase & Co.\n",
    "    \"V\",     # Visa Inc.\n",
    "    \"AMD\", # AMD \n",
    "    \"KO\", # Coca Cola\n",
    "    \"SBUX\", #Starbucks\n",
    "    \"PEP\", # Pepsi\n",
    "    \"GE\", # General Electric\n",
    "    \"GM\", # General Motors\n",
    "    \"NFLX\", # Netflix\n",
    "    \"RBLX\", # Roblox\n",
    "    \"SONY\", # Sony\n",
    "    \"WMT\", # Walmart\n",
    "    \"IBM\", # IBM\n",
    "    \"TGT\", # target\n",
    "    \"COF\" ,# Capital One,\n",
    "    \"PLTR\", # Palantir,\n",
    "    \"MELI\", # MercadoLibre\n",
    "    \"ROAD\", #Construction\n",
    "    \"QUBT\", # Quantum Computing\n",
    "    \"SHOP\", # Shopify\n",
    "    \"ADBE\" ,# Adobe\n",
    "    \"BRK-B\",# berkshire hathaway\n",
    "    \"OKLO\", # Oklo Inc\n",
    "    \"SMR\" # Nuscale Power Corp\n",
    "]\n",
    "\n",
    "current_working = os.getcwd()\n",
    "con = duck.connect(f\"{current_working}/database/stock_data.db\")\n",
    "\n",
    "# con.execute('drop table AAPL')\n",
    "\n",
    "for stock in stocks:\n",
    "    con.execute(f\"\"\"\n",
    "                CREATE TABLE IF NOT EXISTS \"{stock}\" (\n",
    "                date DATE PRIMARY KEY,\n",
    "                open FLOAT,\n",
    "                high FLOAT, \n",
    "                low FLOAT,\n",
    "                close FLOAT,\n",
    "                volume INT,\n",
    "                daily_return FLOAT,\n",
    "                moving_average float,\n",
    "                ema FLOAT,\n",
    "                vwap_proxy FLOAT\n",
    "                )\n",
    "                \"\"\")\n"
   ]
  },
  {
   "cell_type": "code",
   "execution_count": 121,
   "id": "be2afcce-88dd-407c-87f6-0087f7eb9ba6",
   "metadata": {},
   "outputs": [],
   "source": [
    "database = []\n",
    "\n",
    "\n",
    "con = duck.connect(database=\":memory:\")\n",
    "\n",
    "for stock in stocks:\n",
    "    # Fetch and process data\n",
    "    stock_data = adding_relevant_columns(\n",
    "        obb.equity.price.historical(\n",
    "            symbol=stock, provider='yfinance', start_date='2007-01-01'\n",
    "        ).to_df()\n",
    "    )\n",
    "    stock_data = (\n",
    "        pl.from_pandas(stock_data.reset_index())\n",
    "        .with_columns([pl.lit(f\"{stock}\").alias(\"symbol\")])\n",
    "    )\n",
    "    recent_date = max(stock_data['date']).strftime('%Y-%m-%d')\n",
    "    min_date = min(stock_data['date']).strftime('%Y-%m-%d')\n",
    "\n",
    "    con.execute(f\"\"\"\n",
    "        CREATE TABLE IF NOT EXISTS \"{stock}\" (\n",
    "            date DATE PRIMARY KEY,\n",
    "            open FLOAT,\n",
    "            high FLOAT, \n",
    "            low FLOAT,\n",
    "            close FLOAT,\n",
    "            volume BIGINT,\n",
    "            daily_return FLOAT,\n",
    "            moving_average FLOAT,\n",
    "            ema FLOAT,\n",
    "            vwap_proxy FLOAT\n",
    "        )\n",
    "    \"\"\")\n",
    "\n",
    "    con.register(\"stock_data_view\", stock_data)\n",
    "\n",
    "    con.execute(f'''\n",
    "        INSERT INTO \"{stock}\" (\n",
    "            date, open, high, low, close, volume, daily_return, moving_average, ema, vwap_proxy\n",
    "        )\n",
    "        SELECT date, open, high, low, close, volume, daily_return, moving_average, ema, vwap_proxy\n",
    "        FROM stock_data_view\n",
    "        WHERE date <= DATE '{recent_date}'\n",
    "        and date >= DATE '{min_date}'\n",
    "    ''')\n"
   ]
  },
  {
   "cell_type": "code",
   "execution_count": 129,
   "id": "eddae985-8381-465d-a15e-38b1320b9722",
   "metadata": {},
   "outputs": [
    {
     "name": "stdout",
     "output_type": "stream",
     "text": [
      "┌────────────┬───────────┬───────────┬───────────┬───────────┬───────────┬──────────────┬────────────────┬───────────┬────────────┐\n",
      "│    date    │   open    │   high    │    low    │   close   │  volume   │ daily_return │ moving_average │    ema    │ vwap_proxy │\n",
      "│    date    │   float   │   float   │   float   │   float   │   int64   │    float     │     float      │   float   │   float    │\n",
      "├────────────┼───────────┼───────────┼───────────┼───────────┼───────────┼──────────────┼────────────────┼───────────┼────────────┤\n",
      "│ 2007-01-03 │ 11.661662 │ 11.928428 │ 11.539289 │ 11.701451 │ 307951740 │         NULL │      11.701451 │ 11.701451 │  11.723056 │\n",
      "│ 2007-01-04 │ 11.736737 │ 12.110861 │  11.72047 │ 12.093594 │ 315188496 │    3.3512278 │      11.897522 │ 11.716829 │  11.974975 │\n",
      "│ 2007-01-05 │ 12.074575 │   12.1997 │ 11.964715 │ 12.191942 │ 274609116 │    0.8132291 │      11.995663 │ 11.735461 │  12.118786 │\n",
      "│ 2007-01-08 │ 12.204454 │ 12.259009 │ 12.067067 │ 12.101602 │ 189985824 │   -0.7409862 │      12.022147 │  11.74982 │  12.142559 │\n",
      "│ 2007-01-09 │ 12.148398 │ 12.218468 │ 12.042042 │  12.14965 │ 215040744 │   0.39703852 │      12.047647 │ 11.765499 │   12.13672 │\n",
      "│ 2007-01-10 │ 12.122873 │ 12.351101 │ 12.063063 │ 12.248749 │ 238501260 │   0.81565446 │      12.081164 │ 11.784451 │  12.220971 │\n",
      "│ 2007-01-11 │ 12.442442 │ 12.556306 │ 12.416917 │ 12.505506 │ 288039672 │    2.0961878 │      12.141785 │ 11.812727 │  12.492909 │\n",
      "│ 2007-01-12 │ 12.562312 │ 12.637638 │ 12.512513 │ 12.637638 │ 178769052 │    1.0565948 │      12.203766 │ 11.845077 │   12.59593 │\n",
      "│ 2007-01-16 │ 12.701451 │ 12.837838 │ 12.595095 │  12.61962 │ 302453244 │  -0.14257228 │      12.249972 │ 11.875451 │  12.684184 │\n",
      "│ 2007-01-17 │ 12.597347 │ 12.706957 │ 12.371872 │ 12.444444 │ 267696036 │   -1.3881291 │       12.26942 │ 11.897764 │  12.507757 │\n",
      "├────────────┴───────────┴───────────┴───────────┴───────────┴───────────┴──────────────┴────────────────┴───────────┴────────────┤\n",
      "│ 10 rows                                                                                                              10 columns │\n",
      "└─────────────────────────────────────────────────────────────────────────────────────────────────────────────────────────────────┘\n",
      "\n"
     ]
    }
   ],
   "source": [
    "con.sql('''\n",
    "            SELECT * FROM \n",
    "            googl\n",
    "            order by 1 asc\n",
    "            limit 10\n",
    "            ''').show()"
   ]
  },
  {
   "cell_type": "code",
   "execution_count": 83,
   "id": "8f299a93-e296-4f1b-bf2a-7d09964731ff",
   "metadata": {},
   "outputs": [
    {
     "data": {
      "text/plain": [
       "'2025-07-23'"
      ]
     },
     "execution_count": 83,
     "metadata": {},
     "output_type": "execute_result"
    }
   ],
   "source": [
    "stock_data = adding_relevant_columns(\n",
    "    obb.equity.price.historical(\n",
    "        symbol='AAPL', provider='yfinance', start_date='2007-01-01'\n",
    "    ).to_df()\n",
    ")\n",
    "apple = (\n",
    "    pl.from_pandas(stock_data.reset_index())\n",
    "    .with_columns([pl.lit(f\"{stock}\").alias(\"symbol\")])\n",
    ")\n",
    "\n",
    "max(apple['date']).strftime('%Y-%m-%d')"
   ]
  },
  {
   "cell_type": "code",
   "execution_count": null,
   "id": "8c11f876-1533-49a9-94f8-16c3c88e7931",
   "metadata": {},
   "outputs": [],
   "source": []
  }
 ],
 "metadata": {
  "kernelspec": {
   "display_name": "Python 3 (ipykernel)",
   "language": "python",
   "name": "python3"
  },
  "language_info": {
   "codemirror_mode": {
    "name": "ipython",
    "version": 3
   },
   "file_extension": ".py",
   "mimetype": "text/x-python",
   "name": "python",
   "nbconvert_exporter": "python",
   "pygments_lexer": "ipython3",
   "version": "3.11.7"
  }
 },
 "nbformat": 4,
 "nbformat_minor": 5
}
