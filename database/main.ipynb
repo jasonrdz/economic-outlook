{
 "cells": [
  {
   "cell_type": "code",
   "execution_count": 26,
   "id": "4ab07ed0-fb91-4d6c-ada5-0790a947d198",
   "metadata": {},
   "outputs": [
    {
     "name": "stdout",
     "output_type": "stream",
     "text": [
      "/Users/jasonrodriguez/economic_outlook\n"
     ]
    },
    {
     "ename": "ModuleNotFoundError",
     "evalue": "No module named 'functions'",
     "output_type": "error",
     "traceback": [
      "\u001b[0;31m---------------------------------------------------------------------------\u001b[0m",
      "\u001b[0;31mModuleNotFoundError\u001b[0m                       Traceback (most recent call last)",
      "Cell \u001b[0;32mIn[26], line 10\u001b[0m\n\u001b[1;32m      8\u001b[0m \u001b[38;5;28;01mimport\u001b[39;00m \u001b[38;5;21;01msys\u001b[39;00m \n\u001b[1;32m      9\u001b[0m sys\u001b[38;5;241m.\u001b[39mpath\u001b[38;5;241m.\u001b[39mappend(\u001b[38;5;124m'\u001b[39m\u001b[38;5;124m./working_files/\u001b[39m\u001b[38;5;124m'\u001b[39m)\n\u001b[0;32m---> 10\u001b[0m \u001b[38;5;28;01mfrom\u001b[39;00m \u001b[38;5;21;01mfunctions\u001b[39;00m \u001b[38;5;28;01mimport\u001b[39;00m \u001b[38;5;241m*\u001b[39m\n\u001b[1;32m     14\u001b[0m stocks \u001b[38;5;241m=\u001b[39m [\n\u001b[1;32m     15\u001b[0m     \u001b[38;5;124m\"\u001b[39m\u001b[38;5;124mAAPL\u001b[39m\u001b[38;5;124m\"\u001b[39m,  \u001b[38;5;66;03m# Apple Inc.\u001b[39;00m\n\u001b[1;32m     16\u001b[0m     \u001b[38;5;124m\"\u001b[39m\u001b[38;5;124mMSFT\u001b[39m\u001b[38;5;124m\"\u001b[39m,  \u001b[38;5;66;03m# Microsoft Corporation\u001b[39;00m\n\u001b[0;32m   (...)\u001b[0m\n\u001b[1;32m     45\u001b[0m     \u001b[38;5;124m\"\u001b[39m\u001b[38;5;124mSMR\u001b[39m\u001b[38;5;124m\"\u001b[39m \u001b[38;5;66;03m# Nuscale Power Corp\u001b[39;00m\n\u001b[1;32m     46\u001b[0m ]\n\u001b[1;32m     48\u001b[0m current_working \u001b[38;5;241m=\u001b[39m os\u001b[38;5;241m.\u001b[39mgetcwd()\n",
      "\u001b[0;31mModuleNotFoundError\u001b[0m: No module named 'functions'"
     ]
    }
   ],
   "source": [
    "import duckdb as duck\n",
    "from openbb import obb\n",
    "import polars as pl\n",
    "\n",
    "import os\n",
    "# os.chdir('..')\n",
    "print(os.getcwd())\n",
    "import sys \n",
    "sys.path.append('./working_files/')\n",
    "from functions import *\n",
    "\n",
    "\n",
    "\n",
    "stocks = [\n",
    "    \"AAPL\",  # Apple Inc.\n",
    "    \"MSFT\",  # Microsoft Corporation\n",
    "    \"GOOGL\", # Alphabet Inc. (Class A)\n",
    "    \"AMZN\",  # Amazon.com Inc.\n",
    "    \"META\",  # Meta Platforms Inc.\n",
    "    \"NVDA\",  # NVIDIA Corporation\n",
    "    \"TSLA\",  # Tesla Inc.\n",
    "    \"JPM\",   # JPMorgan Chase & Co.\n",
    "    \"V\",     # Visa Inc.\n",
    "    \"AMD\", # AMD \n",
    "    \"KO\", # Coca Cola\n",
    "    \"SBUX\", #Starbucks\n",
    "    \"PEP\", # Pepsi\n",
    "    \"GE\", # General Electric\n",
    "    \"GM\", # General Motors\n",
    "    \"NFLX\", # Netflix\n",
    "    \"RBLX\", # Roblox\n",
    "    \"SONY\", # Sony\n",
    "    \"WMT\", # Walmart\n",
    "    \"IBM\", # IBM\n",
    "    \"TGT\", # target\n",
    "    \"COF\" ,# Capital One,\n",
    "    \"PLTR\", # Palantir,\n",
    "    \"MELI\", # MercadoLibre\n",
    "    \"ROAD\", #Construction\n",
    "    \"QUBT\", # Quantum Computing\n",
    "    \"SHOP\", # Shopify\n",
    "    \"ADBE\" ,# Adobe\n",
    "    \"BRK-B\",# berkshire hathaway\n",
    "    \"OKLO\", # Oklo Inc\n",
    "    \"SMR\" # Nuscale Power Corp\n",
    "]\n",
    "\n",
    "current_working = os.getcwd()\n",
    "con = duck.connect(f\"{current_working}/database/stock_data.db\")\n",
    "\n",
    "# con.execute('drop table AAPL')\n",
    "\n",
    "for stock in stocks:\n",
    "    con.execute(f\"\"\"\n",
    "                CREATE TABLE IF NOT EXISTS \"{stock}\" (\n",
    "                date DATE PRIMARY KEY,\n",
    "                open FLOAT,\n",
    "                high FLOAT, \n",
    "                low FLOAT,\n",
    "                close FLOAT,\n",
    "                volume INT,\n",
    "                daily_return FLOAT,\n",
    "                moving_average float,\n",
    "                ema FLOAT,\n",
    "                vwap_proxy FLOAT\n",
    "                )\n",
    "                \"\"\")\n"
   ]
  },
  {
   "cell_type": "code",
   "execution_count": 22,
   "id": "be2afcce-88dd-407c-87f6-0087f7eb9ba6",
   "metadata": {},
   "outputs": [
    {
     "ename": "NameError",
     "evalue": "name 'stocks' is not defined",
     "output_type": "error",
     "traceback": [
      "\u001b[0;31m---------------------------------------------------------------------------\u001b[0m",
      "\u001b[0;31mNameError\u001b[0m                                 Traceback (most recent call last)",
      "Cell \u001b[0;32mIn[22], line 6\u001b[0m\n\u001b[1;32m      1\u001b[0m database \u001b[38;5;241m=\u001b[39m []\n\u001b[1;32m      4\u001b[0m con \u001b[38;5;241m=\u001b[39m duck\u001b[38;5;241m.\u001b[39mconnect(database\u001b[38;5;241m=\u001b[39m\u001b[38;5;124m\"\u001b[39m\u001b[38;5;124m:memory:\u001b[39m\u001b[38;5;124m\"\u001b[39m)\n\u001b[0;32m----> 6\u001b[0m \u001b[38;5;28;01mfor\u001b[39;00m stock \u001b[38;5;129;01min\u001b[39;00m stocks:\n\u001b[1;32m      7\u001b[0m     \u001b[38;5;66;03m# Fetch and process data\u001b[39;00m\n\u001b[1;32m      8\u001b[0m     stock_data \u001b[38;5;241m=\u001b[39m adding_relevant_columns(\n\u001b[1;32m      9\u001b[0m         obb\u001b[38;5;241m.\u001b[39mequity\u001b[38;5;241m.\u001b[39mprice\u001b[38;5;241m.\u001b[39mhistorical(\n\u001b[1;32m     10\u001b[0m             symbol\u001b[38;5;241m=\u001b[39mstock, provider\u001b[38;5;241m=\u001b[39m\u001b[38;5;124m'\u001b[39m\u001b[38;5;124myfinance\u001b[39m\u001b[38;5;124m'\u001b[39m, start_date\u001b[38;5;241m=\u001b[39m\u001b[38;5;124m'\u001b[39m\u001b[38;5;124m2007-01-01\u001b[39m\u001b[38;5;124m'\u001b[39m\n\u001b[1;32m     11\u001b[0m         )\u001b[38;5;241m.\u001b[39mto_df()\n\u001b[1;32m     12\u001b[0m     )\n\u001b[1;32m     13\u001b[0m     stock_data \u001b[38;5;241m=\u001b[39m (\n\u001b[1;32m     14\u001b[0m         pl\u001b[38;5;241m.\u001b[39mfrom_pandas(stock_data\u001b[38;5;241m.\u001b[39mreset_index())\n\u001b[1;32m     15\u001b[0m         \u001b[38;5;241m.\u001b[39mwith_columns([pl\u001b[38;5;241m.\u001b[39mlit(\u001b[38;5;124mf\u001b[39m\u001b[38;5;124m\"\u001b[39m\u001b[38;5;132;01m{\u001b[39;00mstock\u001b[38;5;132;01m}\u001b[39;00m\u001b[38;5;124m\"\u001b[39m)\u001b[38;5;241m.\u001b[39malias(\u001b[38;5;124m\"\u001b[39m\u001b[38;5;124msymbol\u001b[39m\u001b[38;5;124m\"\u001b[39m)])\n\u001b[1;32m     16\u001b[0m     )\n",
      "\u001b[0;31mNameError\u001b[0m: name 'stocks' is not defined"
     ]
    }
   ],
   "source": [
    "database = []\n",
    "\n",
    "\n",
    "con = duck.connect(database=\":memory:\")\n",
    "\n",
    "for stock in stocks:\n",
    "    # Fetch and process data\n",
    "    stock_data = adding_relevant_columns(\n",
    "        obb.equity.price.historical(\n",
    "            symbol=stock, provider='yfinance', start_date='2007-01-01'\n",
    "        ).to_df()\n",
    "    )\n",
    "    stock_data = (\n",
    "        pl.from_pandas(stock_data.reset_index())\n",
    "        .with_columns([pl.lit(f\"{stock}\").alias(\"symbol\")])\n",
    "    )\n",
    "    recent_date = max(stock_data['date']).strftime('%Y-%m-%d')\n",
    "    min_date = min(stock_data['date']).strftime('%Y-%m-%d')\n",
    "\n",
    "    con.execute(f\"\"\"\n",
    "        CREATE TABLE IF NOT EXISTS \"{stock}\" (\n",
    "            date DATE PRIMARY KEY,\n",
    "            open FLOAT,\n",
    "            high FLOAT, \n",
    "            low FLOAT,\n",
    "            close FLOAT,\n",
    "            volume BIGINT,\n",
    "            daily_return FLOAT,\n",
    "            moving_average FLOAT,\n",
    "            ema FLOAT,\n",
    "            vwap_proxy FLOAT\n",
    "        )\n",
    "    \"\"\")\n",
    "\n",
    "    con.register(\"stock_data_view\", stock_data)\n",
    "\n",
    "    con.execute(f'''\n",
    "        INSERT INTO \"{stock}\" (\n",
    "            date, open, high, low, close, volume, daily_return, moving_average, ema, vwap_proxy\n",
    "        )\n",
    "        SELECT date, open, high, low, close, volume, daily_return, moving_average, ema, vwap_proxy\n",
    "        FROM stock_data_view\n",
    "        WHERE date <= DATE '{recent_date}'\n",
    "        and date >= DATE '{min_date}'\n",
    "    ''')\n"
   ]
  },
  {
   "cell_type": "code",
   "execution_count": 14,
   "id": "eddae985-8381-465d-a15e-38b1320b9722",
   "metadata": {},
   "outputs": [
    {
     "ename": "CatalogException",
     "evalue": "Catalog Error: Table with name googl does not exist!\nDid you mean \"pg_class\"?",
     "output_type": "error",
     "traceback": [
      "\u001b[0;31m---------------------------------------------------------------------------\u001b[0m",
      "\u001b[0;31mCatalogException\u001b[0m                          Traceback (most recent call last)",
      "Cell \u001b[0;32mIn[14], line 1\u001b[0m\n\u001b[0;32m----> 1\u001b[0m con\u001b[38;5;241m.\u001b[39msql(\u001b[38;5;124m'''\u001b[39m\n\u001b[1;32m      2\u001b[0m \u001b[38;5;124m            SELECT * FROM \u001b[39m\n\u001b[1;32m      3\u001b[0m \u001b[38;5;124m            googl\u001b[39m\n\u001b[1;32m      4\u001b[0m \u001b[38;5;124m            order by 1 asc\u001b[39m\n\u001b[1;32m      5\u001b[0m \u001b[38;5;124m            limit 10\u001b[39m\n\u001b[1;32m      6\u001b[0m \u001b[38;5;124m            \u001b[39m\u001b[38;5;124m'''\u001b[39m)\u001b[38;5;241m.\u001b[39mshow()\n",
      "\u001b[0;31mCatalogException\u001b[0m: Catalog Error: Table with name googl does not exist!\nDid you mean \"pg_class\"?"
     ]
    }
   ],
   "source": [
    "con.sql('''\n",
    "            SELECT * FROM \n",
    "            googl\n",
    "            order by 1 asc\n",
    "            limit 10\n",
    "            ''').show()"
   ]
  },
  {
   "cell_type": "code",
   "execution_count": 3,
   "id": "8f299a93-e296-4f1b-bf2a-7d09964731ff",
   "metadata": {},
   "outputs": [
    {
     "ename": "NameError",
     "evalue": "name 'adding_relevant_columns' is not defined",
     "output_type": "error",
     "traceback": [
      "\u001b[0;31m---------------------------------------------------------------------------\u001b[0m",
      "\u001b[0;31mNameError\u001b[0m                                 Traceback (most recent call last)",
      "Cell \u001b[0;32mIn[3], line 1\u001b[0m\n\u001b[0;32m----> 1\u001b[0m stock_data \u001b[38;5;241m=\u001b[39m adding_relevant_columns(\n\u001b[1;32m      2\u001b[0m     obb\u001b[38;5;241m.\u001b[39mequity\u001b[38;5;241m.\u001b[39mprice\u001b[38;5;241m.\u001b[39mhistorical(\n\u001b[1;32m      3\u001b[0m         symbol\u001b[38;5;241m=\u001b[39m\u001b[38;5;124m'\u001b[39m\u001b[38;5;124mAAPL\u001b[39m\u001b[38;5;124m'\u001b[39m, provider\u001b[38;5;241m=\u001b[39m\u001b[38;5;124m'\u001b[39m\u001b[38;5;124myfinance\u001b[39m\u001b[38;5;124m'\u001b[39m, start_date\u001b[38;5;241m=\u001b[39m\u001b[38;5;124m'\u001b[39m\u001b[38;5;124m2007-01-01\u001b[39m\u001b[38;5;124m'\u001b[39m\n\u001b[1;32m      4\u001b[0m     )\u001b[38;5;241m.\u001b[39mto_df()\n\u001b[1;32m      5\u001b[0m )\n\u001b[1;32m      6\u001b[0m apple \u001b[38;5;241m=\u001b[39m (\n\u001b[1;32m      7\u001b[0m     pl\u001b[38;5;241m.\u001b[39mfrom_pandas(stock_data\u001b[38;5;241m.\u001b[39mreset_index())\n\u001b[1;32m      8\u001b[0m     \u001b[38;5;241m.\u001b[39mwith_columns([pl\u001b[38;5;241m.\u001b[39mlit(\u001b[38;5;124mf\u001b[39m\u001b[38;5;124m\"\u001b[39m\u001b[38;5;132;01m{\u001b[39;00mstock\u001b[38;5;132;01m}\u001b[39;00m\u001b[38;5;124m\"\u001b[39m)\u001b[38;5;241m.\u001b[39malias(\u001b[38;5;124m\"\u001b[39m\u001b[38;5;124msymbol\u001b[39m\u001b[38;5;124m\"\u001b[39m)])\n\u001b[1;32m      9\u001b[0m )\n\u001b[1;32m     11\u001b[0m \u001b[38;5;28mmax\u001b[39m(apple[\u001b[38;5;124m'\u001b[39m\u001b[38;5;124mdate\u001b[39m\u001b[38;5;124m'\u001b[39m])\u001b[38;5;241m.\u001b[39mstrftime(\u001b[38;5;124m'\u001b[39m\u001b[38;5;124m%\u001b[39m\u001b[38;5;124mY-\u001b[39m\u001b[38;5;124m%\u001b[39m\u001b[38;5;124mm-\u001b[39m\u001b[38;5;132;01m%d\u001b[39;00m\u001b[38;5;124m'\u001b[39m)\n",
      "\u001b[0;31mNameError\u001b[0m: name 'adding_relevant_columns' is not defined"
     ]
    }
   ],
   "source": [
    "stock_data = adding_relevant_columns(\n",
    "    obb.equity.price.historical(\n",
    "        symbol='AAPL', provider='yfinance', start_date='2007-01-01'\n",
    "    ).to_df()\n",
    ")\n",
    "apple = (\n",
    "    pl.from_pandas(stock_data.reset_index())\n",
    "    .with_columns([pl.lit(f\"{stock}\").alias(\"symbol\")])\n",
    ")\n",
    "\n",
    "max(apple['date']).strftime('%Y-%m-%d')"
   ]
  },
  {
   "cell_type": "code",
   "execution_count": null,
   "id": "8c11f876-1533-49a9-94f8-16c3c88e7931",
   "metadata": {},
   "outputs": [],
   "source": []
  }
 ],
 "metadata": {
  "kernelspec": {
   "display_name": "Python 3 (ipykernel)",
   "language": "python",
   "name": "python3"
  },
  "language_info": {
   "codemirror_mode": {
    "name": "ipython",
    "version": 3
   },
   "file_extension": ".py",
   "mimetype": "text/x-python",
   "name": "python",
   "nbconvert_exporter": "python",
   "pygments_lexer": "ipython3",
   "version": "3.11.7"
  }
 },
 "nbformat": 4,
 "nbformat_minor": 5
}
